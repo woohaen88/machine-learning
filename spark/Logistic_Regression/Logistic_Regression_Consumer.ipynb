{
 "cells": [
  {
   "cell_type": "code",
   "execution_count": 8,
   "id": "8933ac0d",
   "metadata": {},
   "outputs": [],
   "source": [
    "from pyspark.sql import SparkSession\n",
    "import repackage\n",
    "from configuration import make_engine\n",
    "import pandas as pd\n",
    "import numpy as np"
   ]
  },
  {
   "cell_type": "code",
   "execution_count": 10,
   "id": "1fc8081d",
   "metadata": {},
   "outputs": [
    {
     "data": {
      "text/plain": [
       "[('appl_stock',),\n",
       " ('college',),\n",
       " ('containsnull',),\n",
       " ('cruise_ship_info',),\n",
       " ('customer_churn',),\n",
       " ('dog_food',),\n",
       " ('ecommerce_customers',),\n",
       " ('fake_customers',),\n",
       " ('hack_data',),\n",
       " ('hello',),\n",
       " ('meal_info',),\n",
       " ('movielens_ratings',),\n",
       " ('new_customers',),\n",
       " ('sales_info',),\n",
       " ('seeds_dataset',),\n",
       " ('test',),\n",
       " ('titanic',),\n",
       " ('walmart_stock',)]"
      ]
     },
     "execution_count": 10,
     "metadata": {},
     "output_type": "execute_result"
    }
   ],
   "source": [
    "engine = make_engine()\n",
    "engine.execute('show tables;').fetchall() # db table 확인"
   ]
  },
  {
   "cell_type": "markdown",
   "id": "a7ae303c",
   "metadata": {},
   "source": [
    "### data load"
   ]
  },
  {
   "cell_type": "code",
   "execution_count": 11,
   "id": "9559080f",
   "metadata": {},
   "outputs": [],
   "source": [
    "customer_churn = pd.read_sql(\"SELECT * FROM customer_churn\", con=engine)"
   ]
  },
  {
   "cell_type": "markdown",
   "id": "cf26afa2",
   "metadata": {},
   "source": [
    "### create spark session"
   ]
  },
  {
   "cell_type": "code",
   "execution_count": 12,
   "id": "0dbfef22",
   "metadata": {},
   "outputs": [],
   "source": [
    "spark = SparkSession.builder.appName(\"customer\").getOrCreate()\n",
    "data = spark.createDataFrame(customer_churn)"
   ]
  },
  {
   "cell_type": "markdown",
   "id": "52e65afb",
   "metadata": {},
   "source": [
    "### check schema"
   ]
  },
  {
   "cell_type": "code",
   "execution_count": 15,
   "id": "250bd00d",
   "metadata": {},
   "outputs": [
    {
     "name": "stdout",
     "output_type": "stream",
     "text": [
      "root\n",
      " |-- Names: string (nullable = true)\n",
      " |-- Age: double (nullable = true)\n",
      " |-- Total_Purchase: double (nullable = true)\n",
      " |-- Account_Manager: long (nullable = true)\n",
      " |-- Years: double (nullable = true)\n",
      " |-- Num_Sites: double (nullable = true)\n",
      " |-- Onboard_date: string (nullable = true)\n",
      " |-- Location: string (nullable = true)\n",
      " |-- Company: string (nullable = true)\n",
      " |-- Churn: long (nullable = true)\n",
      "\n"
     ]
    }
   ],
   "source": [
    "data.printSchema()"
   ]
  },
  {
   "cell_type": "markdown",
   "id": "1e0b532a",
   "metadata": {},
   "source": [
    "### check out the data"
   ]
  },
  {
   "cell_type": "code",
   "execution_count": 16,
   "id": "c536a4f4",
   "metadata": {},
   "outputs": [
    {
     "name": "stdout",
     "output_type": "stream",
     "text": [
      "+-------+-------------+-----------------+------------------+------------------+------------------+------------------+-------------------+--------------------+--------------------+-------------------+\n",
      "|summary|        Names|              Age|    Total_Purchase|   Account_Manager|             Years|         Num_Sites|       Onboard_date|            Location|             Company|              Churn|\n",
      "+-------+-------------+-----------------+------------------+------------------+------------------+------------------+-------------------+--------------------+--------------------+-------------------+\n",
      "|  count|          900|              900|               900|               900|               900|               900|                900|                 900|                 900|                900|\n",
      "|   mean|         null|41.81666666666667|10062.824033333332|0.4811111111111111| 5.273155555555555| 8.587777777777777|               null|                null|                null|0.16666666666666666|\n",
      "| stddev|         null|6.127560416916251|2408.6445318580945| 0.499920893507334|1.2744490131946153|1.7648355920350949|               null|                null|                null| 0.3728852122772355|\n",
      "|    min|   Aaron King|             22.0|             100.0|                 0|               1.0|               3.0|2006-01-02 04:16:13|00103 Jeffrey Cre...|     Abbott-Thompson|                  0|\n",
      "|    max|Zachary Walsh|             65.0|          18026.01|                 1|              9.15|              14.0|2016-12-28 04:07:38|Unit 9800 Box 287...|Zuniga, Clark and...|                  1|\n",
      "+-------+-------------+-----------------+------------------+------------------+------------------+------------------+-------------------+--------------------+--------------------+-------------------+\n",
      "\n"
     ]
    }
   ],
   "source": [
    "data.describe().show()"
   ]
  },
  {
   "cell_type": "markdown",
   "id": "e056ab37",
   "metadata": {},
   "source": [
    "### fit the model"
   ]
  },
  {
   "cell_type": "code",
   "execution_count": 26,
   "id": "5c352374",
   "metadata": {},
   "outputs": [],
   "source": [
    "from pyspark.ml.feature import VectorAssembler\n",
    "\n",
    "assembler = VectorAssembler(inputCols=['Age', 'Total_Purchase', 'Account_Manager',\n",
    "                                       'Years', 'Num_Sites'],\n",
    "                            outputCol='features')\n",
    "\n",
    "output = assembler.transform(data)\n",
    "final_data = output.select('features', 'churn')"
   ]
  },
  {
   "cell_type": "code",
   "execution_count": 28,
   "id": "5f1ee930",
   "metadata": {},
   "outputs": [],
   "source": [
    "train_churn, test_churn = final_data.randomSplit([0.7, 0.3])"
   ]
  },
  {
   "cell_type": "code",
   "execution_count": 29,
   "id": "67506d81",
   "metadata": {},
   "outputs": [],
   "source": [
    "from pyspark.ml.classification import LogisticRegression"
   ]
  },
  {
   "cell_type": "code",
   "execution_count": 30,
   "id": "d106c0f9",
   "metadata": {},
   "outputs": [],
   "source": [
    "lr_churn = LogisticRegression(featuresCol='features',\n",
    "                              labelCol='churn')"
   ]
  },
  {
   "cell_type": "code",
   "execution_count": 32,
   "id": "cf19a297",
   "metadata": {},
   "outputs": [],
   "source": [
    "fitted_churn_model = lr_churn.fit(train_churn)\n",
    "training_summary = fitted_churn_model.summary"
   ]
  },
  {
   "cell_type": "code",
   "execution_count": 34,
   "id": "a0ae8495",
   "metadata": {},
   "outputs": [
    {
     "name": "stdout",
     "output_type": "stream",
     "text": [
      "+-------+------------------+-------------------+\n",
      "|summary|             churn|         prediction|\n",
      "+-------+------------------+-------------------+\n",
      "|  count|               634|                634|\n",
      "|   mean|0.1640378548895899|0.12145110410094637|\n",
      "| stddev|0.3706023087280618| 0.3269086982224587|\n",
      "|    min|               0.0|                0.0|\n",
      "|    max|               1.0|                1.0|\n",
      "+-------+------------------+-------------------+\n",
      "\n"
     ]
    }
   ],
   "source": [
    "training_summary.predictions.describe().show()"
   ]
  },
  {
   "cell_type": "markdown",
   "id": "b7d5e3f7",
   "metadata": {},
   "source": [
    "### evaluate results"
   ]
  },
  {
   "cell_type": "code",
   "execution_count": 35,
   "id": "70665dd3",
   "metadata": {},
   "outputs": [],
   "source": [
    "from pyspark.ml.evaluation import BinaryClassificationEvaluator"
   ]
  },
  {
   "cell_type": "code",
   "execution_count": 36,
   "id": "d81b111c",
   "metadata": {},
   "outputs": [
    {
     "name": "stdout",
     "output_type": "stream",
     "text": [
      "+--------------------+-----+--------------------+--------------------+----------+\n",
      "|            features|churn|       rawPrediction|         probability|prediction|\n",
      "+--------------------+-----+--------------------+--------------------+----------+\n",
      "|[26.0,8787.39,1.0...|    1|[0.61126110062752...|[0.64822842248375...|       0.0|\n",
      "|[29.0,8688.17,1.0...|    1|[2.76969480478950...|[0.94101604900235...|       0.0|\n",
      "|[29.0,9378.24,0.0...|    0|[4.85936241023517...|[0.99230425668022...|       0.0|\n",
      "|[29.0,9617.59,0.0...|    0|[4.50378220306607...|[0.98905407973509...|       0.0|\n",
      "|[30.0,10744.14,1....|    1|[1.67753081298889...|[0.84257729315117...|       0.0|\n",
      "|[30.0,12788.37,0....|    0|[2.42694319840579...|[0.91885891780370...|       0.0|\n",
      "|[35.0,15571.26,0....|    0|[1.88618242962958...|[0.86831964054125...|       0.0|\n",
      "|[36.0,10448.09,0....|    0|[4.85825337600409...|[0.99229578289374...|       0.0|\n",
      "|[37.0,8284.89,1.0...|    1|[1.15336405718925...|[0.76012483919451...|       0.0|\n",
      "|[37.0,10314.67,1....|    0|[3.33671297939701...|[0.96566703036555...|       0.0|\n",
      "|[38.0,8642.01,1.0...|    1|[0.32911112087379...|[0.58154308315313...|       0.0|\n",
      "|[38.0,9624.18,0.0...|    1|[-1.0240981779822...|[0.26422989422519...|       1.0|\n",
      "|[38.0,11758.69,0....|    1|[-0.8062602680850...|[0.30868798191536...|       1.0|\n",
      "|[38.0,12884.75,0....|    1|[-1.9562268387861...|[0.12387597062861...|       1.0|\n",
      "|[39.0,6351.79,0.0...|    1|[6.44269942050197...|[0.99841042764424...|       0.0|\n",
      "|[39.0,8667.02,0.0...|    1|[0.70502855810169...|[0.66930172377045...|       0.0|\n",
      "|[39.0,8930.49,1.0...|    0|[0.92340584294514...|[0.71573556111994...|       0.0|\n",
      "|[39.0,11159.46,0....|    0|[1.00181943177000...|[0.73141615020764...|       0.0|\n",
      "|[40.0,8283.32,1.0...|    1|[-2.4566124983241...|[0.07895633275212...|       1.0|\n",
      "|[40.0,8625.96,1.0...|    1|[-3.1876985386825...|[0.03963128190026...|       1.0|\n",
      "+--------------------+-----+--------------------+--------------------+----------+\n",
      "only showing top 20 rows\n",
      "\n"
     ]
    }
   ],
   "source": [
    "pred_and_labels = fitted_churn_model.evaluate(test_churn)\n",
    "pred_and_labels.predictions.show()"
   ]
  },
  {
   "cell_type": "markdown",
   "id": "8dc7ebb8",
   "metadata": {},
   "source": [
    "### using AUC"
   ]
  },
  {
   "cell_type": "code",
   "execution_count": 37,
   "id": "5a06f214",
   "metadata": {},
   "outputs": [],
   "source": [
    "churn_eval = BinaryClassificationEvaluator(rawPredictionCol='prediction',\n",
    "                                           labelCol='churn')"
   ]
  },
  {
   "cell_type": "code",
   "execution_count": 39,
   "id": "11cedd63",
   "metadata": {},
   "outputs": [
    {
     "data": {
      "text/plain": [
       "0.7444664031620554"
      ]
     },
     "execution_count": 39,
     "metadata": {},
     "output_type": "execute_result"
    }
   ],
   "source": [
    "auc = churn_eval.evaluate(pred_and_labels.predictions)\n",
    "auc"
   ]
  },
  {
   "cell_type": "markdown",
   "id": "f8e705d8",
   "metadata": {},
   "source": [
    "### predict on brand new unlabeled data"
   ]
  },
  {
   "cell_type": "code",
   "execution_count": 41,
   "id": "d3e89af3",
   "metadata": {},
   "outputs": [],
   "source": [
    "final_lr_model = lr_churn.fit(final_data)"
   ]
  },
  {
   "cell_type": "code",
   "execution_count": 42,
   "id": "7332a6dc",
   "metadata": {},
   "outputs": [],
   "source": [
    "new_customers = pd.read_sql(\"SELECT * FROM new_customers\", con=engine)"
   ]
  },
  {
   "cell_type": "code",
   "execution_count": 43,
   "id": "d695cd2e",
   "metadata": {},
   "outputs": [],
   "source": [
    "new_customers = spark.createDataFrame(new_customers)"
   ]
  },
  {
   "cell_type": "code",
   "execution_count": 45,
   "id": "39c65fd3",
   "metadata": {},
   "outputs": [
    {
     "name": "stdout",
     "output_type": "stream",
     "text": [
      "root\n",
      " |-- Names: string (nullable = true)\n",
      " |-- Age: double (nullable = true)\n",
      " |-- Total_Purchase: double (nullable = true)\n",
      " |-- Account_Manager: long (nullable = true)\n",
      " |-- Years: double (nullable = true)\n",
      " |-- Num_Sites: double (nullable = true)\n",
      " |-- Onboard_date: string (nullable = true)\n",
      " |-- Location: string (nullable = true)\n",
      " |-- Company: string (nullable = true)\n",
      " |-- Churn: long (nullable = true)\n",
      "\n"
     ]
    }
   ],
   "source": [
    "new_customers.printSchema()"
   ]
  },
  {
   "cell_type": "code",
   "execution_count": 46,
   "id": "aa0e8d54",
   "metadata": {},
   "outputs": [],
   "source": [
    "test_new_customers = assembler.transform(new_customers)"
   ]
  },
  {
   "cell_type": "code",
   "execution_count": 47,
   "id": "2a959507",
   "metadata": {},
   "outputs": [
    {
     "name": "stdout",
     "output_type": "stream",
     "text": [
      "root\n",
      " |-- Names: string (nullable = true)\n",
      " |-- Age: double (nullable = true)\n",
      " |-- Total_Purchase: double (nullable = true)\n",
      " |-- Account_Manager: long (nullable = true)\n",
      " |-- Years: double (nullable = true)\n",
      " |-- Num_Sites: double (nullable = true)\n",
      " |-- Onboard_date: string (nullable = true)\n",
      " |-- Location: string (nullable = true)\n",
      " |-- Company: string (nullable = true)\n",
      " |-- Churn: long (nullable = true)\n",
      " |-- features: vector (nullable = true)\n",
      "\n"
     ]
    }
   ],
   "source": [
    "test_new_customers.printSchema()"
   ]
  },
  {
   "cell_type": "code",
   "execution_count": 48,
   "id": "77703ea7",
   "metadata": {},
   "outputs": [],
   "source": [
    "final_results = final_lr_model.transform(test_new_customers)"
   ]
  },
  {
   "cell_type": "code",
   "execution_count": 49,
   "id": "78210a7c",
   "metadata": {},
   "outputs": [
    {
     "name": "stdout",
     "output_type": "stream",
     "text": [
      "+--------------------+----------+\n",
      "|             company|prediction|\n",
      "+--------------------+----------+\n",
      "|       Castro-Hodges|       0.0|\n",
      "|     Miller and Sons|       1.0|\n",
      "|     Green-Gutierrez|       0.0|\n",
      "|         Duncan-Bell|       0.0|\n",
      "|        Mcdonald LLC|       1.0|\n",
      "|          Stout-Reed|       0.0|\n",
      "|Dominguez, Richar...|       0.0|\n",
      "|          Reed-Davis|       0.0|\n",
      "|        Briggs-Brown|       1.0|\n",
      "|    Mullins and Sons|       0.0|\n",
      "|Cox, Marshall and...|       0.0|\n",
      "|Caldwell, Lane an...|       0.0|\n",
      "|White, Jacobs and...|       0.0|\n",
      "|Thompson, Thomas ...|       0.0|\n",
      "|    Johnson-Copeland|       0.0|\n",
      "|Robertson, Serran...|       0.0|\n",
      "|      Lawson-Flowers|       0.0|\n",
      "|          Travis Inc|       0.0|\n",
      "|Mcgrath, Hebert a...|       0.0|\n",
      "|        Cole-Hoffman|       1.0|\n",
      "+--------------------+----------+\n",
      "only showing top 20 rows\n",
      "\n"
     ]
    }
   ],
   "source": [
    "final_results.select('company', 'prediction').show()"
   ]
  }
 ],
 "metadata": {
  "kernelspec": {
   "display_name": "py38",
   "language": "python",
   "name": "py38"
  },
  "language_info": {
   "codemirror_mode": {
    "name": "ipython",
    "version": 3
   },
   "file_extension": ".py",
   "mimetype": "text/x-python",
   "name": "python",
   "nbconvert_exporter": "python",
   "pygments_lexer": "ipython3",
   "version": "3.8.8"
  }
 },
 "nbformat": 4,
 "nbformat_minor": 5
}
