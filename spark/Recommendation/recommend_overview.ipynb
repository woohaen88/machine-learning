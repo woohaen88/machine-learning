{
 "cells": [
  {
   "cell_type": "markdown",
   "id": "186a0d4d",
   "metadata": {},
   "source": [
    "# Recommender Code\n",
    "클래식 추천자 튜토리얼은 movielens 데이터 세트를 사용.  \n",
    "다른 알고리즘에 MNIST 데이터 세트를 사용하는 것과 유사. "
   ]
  },
  {
   "cell_type": "code",
   "execution_count": 2,
   "id": "9b44998e",
   "metadata": {},
   "outputs": [],
   "source": [
    "from pyspark.sql import SparkSession\n",
    "spark = SparkSession.builder.appName('rec').getOrCreate()"
   ]
  },
  {
   "cell_type": "markdown",
   "id": "ecabedd3",
   "metadata": {},
   "source": [
    "Collaborative filtering을 통해 우리는 많은 사용자로부터 선호도 또는 취향 정보를 수집하여 사용자의 관심사에 대한 예측(필터링)을 수행. 기본 가정은 *사용자 A*가 문제에 대해 *사용자 B*와 ***동일한 의견***을 가지고 있다면, A는 사용자의 x에 대한 의견을 무작위로 선택하는 것보다 다른 문제 x에 대해 B의 의견을 가질 가능성이 더 높음.\n",
    "\n",
    "아래 이미지 (Wikipedia에서 가져온)는 Collaborative filtering의 예를 보여줌. 처음에는 사람들이 다른 항목 (예:비디오, 이미지, 게임)을 평가함. 그런 다음 시스템은 아직 평가되지 않은 항목에 대한 사용자 평가를 예측. 새로운 예측은 활성 사용자와 비슷한 평가를 가진 다른 사용자의 기존 평가를 기반으로 함. 이미지에서 시스템은 사용자가 비디오를 좋아하지 않을 것이라고 예측함.\n",
    "\n",
    "<img src=https://upload.wikimedia.org/wikipedia/commons/5/52/Collaborative_filtering.gif />"
   ]
  },
  {
   "cell_type": "markdown",
   "id": "91286db8",
   "metadata": {},
   "source": [
    "Machine Learning 용 Spark MLlib 라이브러리는 Alternating Least Squares을 사용하여 Collaborative filtering 구현을 제공. MLlib의 구현에는 다음 매개 변수가 있음.\n",
    "\n",
    "* numBlocks는 계산을 병렬화하는 데 사용되는 블록 수입니다 (자동 구성하려면 -1로 설정).\n",
    "* rank는 모델의 잠재 요인 수.\n",
    "* iterations는 실행할 반복 횟수.\n",
    "* lambda는 ALS에서 정규화 매개 변수를 지정.\n",
    "* implicitPrefs는 명시적 피드백 ALS 변형을 사용할지 또는 암시적 피드백 데이터에 적합한 변형을 사용할지 지정.\n",
    "* alpha는 선호도 관찰에서 기준선 신뢰도를 관리하는 ALS의 암시 적 피드백 변형에 적용 할 수있는 매개 변수."
   ]
  },
  {
   "cell_type": "code",
   "execution_count": 6,
   "id": "aadb899c",
   "metadata": {},
   "outputs": [],
   "source": [
    "from pyspark.ml.evaluation import RegressionEvaluator\n",
    "from pyspark.ml.recommendation import ALS #Alternating Least Squares\n",
    "from configuration import make_engine\n",
    "import pandas as pd"
   ]
  },
  {
   "cell_type": "code",
   "execution_count": 11,
   "id": "48539ea8",
   "metadata": {},
   "outputs": [],
   "source": [
    "engine = make_engine()\n",
    "data = pd.read_sql('SELECT * FROM movielens_ratings', con=engine)\n",
    "data = spark.createDataFrame(data)"
   ]
  },
  {
   "cell_type": "code",
   "execution_count": 15,
   "id": "3eb3e438",
   "metadata": {},
   "outputs": [
    {
     "data": {
      "text/plain": [
       "Row(movieId=2, rating=3.0, userId=0)"
      ]
     },
     "execution_count": 15,
     "metadata": {},
     "output_type": "execute_result"
    }
   ],
   "source": [
    "data.head()"
   ]
  },
  {
   "cell_type": "code",
   "execution_count": 16,
   "id": "8fdb1178",
   "metadata": {},
   "outputs": [
    {
     "name": "stdout",
     "output_type": "stream",
     "text": [
      "+-------+-----------------+------------------+------------------+\n",
      "|summary|          movieId|            rating|            userId|\n",
      "+-------+-----------------+------------------+------------------+\n",
      "|  count|             1501|              1501|              1501|\n",
      "|   mean|49.40572951365756|1.7741505662891406|14.383744170552964|\n",
      "| stddev|28.93703406508901|1.1872761661248035| 8.591040424293263|\n",
      "|    min|                0|               1.0|                 0|\n",
      "|    max|               99|               5.0|                29|\n",
      "+-------+-----------------+------------------+------------------+\n",
      "\n"
     ]
    }
   ],
   "source": [
    "data.describe().show()"
   ]
  },
  {
   "cell_type": "markdown",
   "id": "315ff8c5",
   "metadata": {},
   "source": [
    "모델의 성능을 평가하기 위해 분할을 수행할 수 있지만 추천 시스템이 일부 주제에 대해 실제로 얼마나 잘 작동하는지 결정적으로 파악하기가 매우 어려움. 특히 주관성이 관련된 경우 추천 시스템이 달리 제안할 수 있지만 스타워즈를 좋아하는 모든 사람이 스타트렉을 좋아하지는 않을 것."
   ]
  },
  {
   "cell_type": "code",
   "execution_count": 17,
   "id": "c46f64a0",
   "metadata": {},
   "outputs": [],
   "source": [
    "# Smaller dataset so we will use 0.8 / 0.2\n",
    "(training, test) = data.randomSplit([0.8, 0.2])"
   ]
  },
  {
   "cell_type": "code",
   "execution_count": 18,
   "id": "9188d620",
   "metadata": {},
   "outputs": [],
   "source": [
    "# Build the recommendation model using ALS on the training data\n",
    "als = ALS(maxIter=5, regParam=0.01, userCol='userId', itemCol='movieId', ratingCol='rating')\n",
    "model = als.fit(training)"
   ]
  },
  {
   "cell_type": "markdown",
   "id": "798fd05e",
   "metadata": {},
   "source": [
    "이제 모델의 성능을 살펴 보자!"
   ]
  },
  {
   "cell_type": "code",
   "execution_count": 19,
   "id": "f72ac2d3",
   "metadata": {},
   "outputs": [],
   "source": [
    "# Evaluate the model by computing the RMSE on the test data\n",
    "predictions = model.transform(test)"
   ]
  },
  {
   "cell_type": "code",
   "execution_count": 20,
   "id": "218bed85",
   "metadata": {},
   "outputs": [
    {
     "name": "stdout",
     "output_type": "stream",
     "text": [
      "+-------+------+------+-----------+\n",
      "|movieId|rating|userId| prediction|\n",
      "+-------+------+------+-----------+\n",
      "|     31|   4.0|    12|  1.1066724|\n",
      "|     31|   1.0|    13|  1.4739949|\n",
      "|     31|   1.0|     4|   2.067967|\n",
      "|     31|   2.0|    25|-0.86705685|\n",
      "|     85|   1.0|    26|   4.303054|\n",
      "|     85|   1.0|    12|  6.2194014|\n",
      "|     85|   1.0|    15|  0.7440838|\n",
      "|     85|   1.0|     2|  2.1127574|\n",
      "|     65|   2.0|     5|  3.2382467|\n",
      "|     53|   2.0|    19|  2.5945947|\n",
      "|     53|   1.0|    23| -2.2397356|\n",
      "|     53|   1.0|     7|  2.5840058|\n",
      "|     78|   1.0|    13| 0.49412483|\n",
      "|     78|   1.0|    19|  0.6074424|\n",
      "|     78|   1.0|    24|-0.16739936|\n",
      "|     78|   1.0|    11| 0.56174606|\n",
      "|     81|   1.0|    19|-0.03052605|\n",
      "|     81|   1.0|    15| 0.69937754|\n",
      "|     28|   5.0|    18|-0.31741253|\n",
      "|     76|   1.0|    20|  1.7333409|\n",
      "+-------+------+------+-----------+\n",
      "only showing top 20 rows\n",
      "\n"
     ]
    }
   ],
   "source": [
    "predictions.show()"
   ]
  },
  {
   "cell_type": "code",
   "execution_count": 21,
   "id": "4f025dd5",
   "metadata": {},
   "outputs": [
    {
     "name": "stdout",
     "output_type": "stream",
     "text": [
      "Root-mean-square error = 1.7818174059630163\n"
     ]
    }
   ],
   "source": [
    "evaluator = RegressionEvaluator(metricName='rmse', labelCol='rating', predictionCol='prediction')\n",
    "rmse = evaluator.evaluate(predictions)\n",
    "print('Root-mean-square error = {}'.format(rmse))"
   ]
  },
  {
   "cell_type": "markdown",
   "id": "1dd131e2",
   "metadata": {},
   "source": [
    "이제 모델이 생겼으니 실제로 사용자에게 추천을 어떻게 제공 하는가?\n",
    "테스트 데이터로했던 것과 같은 방식임"
   ]
  },
  {
   "cell_type": "code",
   "execution_count": 24,
   "id": "ab185a9c",
   "metadata": {},
   "outputs": [],
   "source": [
    "single_user = test.filter(test['userId'] == 11).select(['movieId', 'userId'])"
   ]
  },
  {
   "cell_type": "code",
   "execution_count": 25,
   "id": "6ed6f022",
   "metadata": {},
   "outputs": [
    {
     "name": "stdout",
     "output_type": "stream",
     "text": [
      "+-------+------+\n",
      "|movieId|userId|\n",
      "+-------+------+\n",
      "|      0|    11|\n",
      "|     10|    11|\n",
      "|     21|    11|\n",
      "|     25|    11|\n",
      "|     39|    11|\n",
      "|     45|    11|\n",
      "|     50|    11|\n",
      "|     51|    11|\n",
      "|     66|    11|\n",
      "|     71|    11|\n",
      "|     77|    11|\n",
      "|     78|    11|\n",
      "|     86|    11|\n",
      "|     89|    11|\n",
      "|     94|    11|\n",
      "|     97|    11|\n",
      "+-------+------+\n",
      "\n"
     ]
    }
   ],
   "source": [
    "# User had 10 ratings in the test data set \n",
    "# Realistically this should be some sort of hold out set!\n",
    "single_user.show()"
   ]
  },
  {
   "cell_type": "code",
   "execution_count": 26,
   "id": "85421acc",
   "metadata": {},
   "outputs": [],
   "source": [
    "recomendation = model.transform(single_user)"
   ]
  },
  {
   "cell_type": "code",
   "execution_count": 27,
   "id": "4020900d",
   "metadata": {},
   "outputs": [
    {
     "name": "stdout",
     "output_type": "stream",
     "text": [
      "+-------+------+-----------+\n",
      "|movieId|userId| prediction|\n",
      "+-------+------+-----------+\n",
      "|     51|    11|  4.5612383|\n",
      "|     71|    11|  3.6289947|\n",
      "|      0|    11|  2.5576847|\n",
      "|     25|    11|  2.3242495|\n",
      "|     21|    11|  1.3120706|\n",
      "|     94|    11|  1.1792042|\n",
      "|     39|    11|  1.0927076|\n",
      "|     89|    11|  1.0346172|\n",
      "|     66|    11| 0.77329224|\n",
      "|     97|    11| 0.72503513|\n",
      "|     78|    11| 0.56174606|\n",
      "|     50|    11|  0.3561796|\n",
      "|     86|    11| 0.31207186|\n",
      "|     45|    11| 0.27932703|\n",
      "|     10|    11|-0.28617597|\n",
      "|     77|    11|  -2.912345|\n",
      "+-------+------+-----------+\n",
      "\n"
     ]
    }
   ],
   "source": [
    "recomendation.orderBy('prediction', ascending=False).show()"
   ]
  }
 ],
 "metadata": {
  "kernelspec": {
   "display_name": "py38",
   "language": "python",
   "name": "py38"
  },
  "language_info": {
   "codemirror_mode": {
    "name": "ipython",
    "version": 3
   },
   "file_extension": ".py",
   "mimetype": "text/x-python",
   "name": "python",
   "nbconvert_exporter": "python",
   "pygments_lexer": "ipython3",
   "version": "3.8.8"
  }
 },
 "nbformat": 4,
 "nbformat_minor": 5
}
