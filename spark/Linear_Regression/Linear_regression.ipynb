{
 "cells": [
  {
   "cell_type": "markdown",
   "id": "04d1a651",
   "metadata": {},
   "source": [
    "# Linear Regression Project\n",
    "\n",
    "* Question: 모델을 만들고 이를 사용하여 선박에 필요한 승무원 수를 예측\n",
    "* Data desciption <br>\n",
    "\n",
    "    Variables/Columns  \n",
    "    Ship Name     1-20  \n",
    "    Cruise Line   21-40  \n",
    "    Age (as of 2013)   46-48  \n",
    "    Tonnage (1000s of tons)   50-56  \n",
    "    passengers (100s)   58-64  \n",
    "    Length (100s of feet)  66-72  \n",
    "    Cabins  (100s)   74-80  \n",
    "    Passenger Density   82-88  \n",
    "    Crew  (100s)   90-96  \n",
    "    \n",
    "mission: 향후 선박에 필요한 선원 수를 예측하는 데 도움이 되는 회귀 모델을 만드는 것  \n",
    "고객은 또한 특정 크루즈 라인이 허용되는 승무원 수에 차이가 있음을 발견 했으므로 분석에 포함하는 것이 가장 중요한 기능이라고 언급"
   ]
  },
  {
   "cell_type": "code",
   "execution_count": 2,
   "id": "f023e7ac",
   "metadata": {},
   "outputs": [],
   "source": [
    "import repackage\n",
    "repackage.up(2)\n",
    "\n",
    "from configuration import make_engine\n",
    "import pandas as pd"
   ]
  },
  {
   "cell_type": "code",
   "execution_count": 4,
   "id": "b96f4fb7",
   "metadata": {},
   "outputs": [],
   "source": [
    "engine = make_engine()"
   ]
  },
  {
   "cell_type": "code",
   "execution_count": 7,
   "id": "faef34d2",
   "metadata": {},
   "outputs": [],
   "source": [
    "query = \"SELECT * FROM cruise_ship_info\"\n",
    "cruise_ship_info = pd.read_sql(query, con=engine)"
   ]
  },
  {
   "cell_type": "code",
   "execution_count": 8,
   "id": "8774adeb",
   "metadata": {},
   "outputs": [],
   "source": [
    "from pyspark.sql import SparkSession\n",
    "spark = SparkSession.builder.appName(\"cruise\").getOrCreate()"
   ]
  },
  {
   "cell_type": "code",
   "execution_count": 19,
   "id": "1bfa76d0",
   "metadata": {},
   "outputs": [
    {
     "name": "stdout",
     "output_type": "stream",
     "text": [
      "+-----------+-----------+---+-------+----------+------+------+-----------------+----+\n",
      "|  Ship_name|Cruise_line|Age|Tonnage|passengers|length|cabins|passenger_density|crew|\n",
      "+-----------+-----------+---+-------+----------+------+------+-----------------+----+\n",
      "|    Journey|    Azamara|  6| 30.277|      6.94|  5.94|  3.55|            42.64|3.55|\n",
      "|      Quest|    Azamara|  6| 30.277|      6.94|  5.94|  3.55|            42.64|3.55|\n",
      "|Celebration|   Carnival| 26| 47.262|     14.86|  7.22|  7.43|             31.8| 6.7|\n",
      "|   Conquest|   Carnival| 11|  110.0|     29.74|  9.53| 14.88|            36.99|19.1|\n",
      "|    Destiny|   Carnival| 17|101.353|     26.42|  8.92| 13.21|            38.36|10.0|\n",
      "|    Ecstasy|   Carnival| 22| 70.367|     20.52|  8.55|  10.2|            34.29| 9.2|\n",
      "|    Elation|   Carnival| 15| 70.367|     20.52|  8.55|  10.2|            34.29| 9.2|\n",
      "|    Fantasy|   Carnival| 23| 70.367|     20.56|  8.55| 10.22|            34.23| 9.2|\n",
      "|Fascination|   Carnival| 19| 70.367|     20.52|  8.55|  10.2|            34.29| 9.2|\n",
      "|    Freedom|   Carnival|  6|110.239|      37.0|  9.51| 14.87|            29.79|11.5|\n",
      "|      Glory|   Carnival| 10|  110.0|     29.74|  9.51| 14.87|            36.99|11.6|\n",
      "|    Holiday|   Carnival| 28| 46.052|     14.52|  7.27|  7.26|            31.72| 6.6|\n",
      "|Imagination|   Carnival| 18| 70.367|     20.52|  8.55|  10.2|            34.29| 9.2|\n",
      "|Inspiration|   Carnival| 17| 70.367|     20.52|  8.55|  10.2|            34.29| 9.2|\n",
      "|     Legend|   Carnival| 11|   86.0|     21.24|  9.63| 10.62|            40.49| 9.3|\n",
      "|   Liberty*|   Carnival|  8|  110.0|     29.74|  9.51| 14.87|            36.99|11.6|\n",
      "|    Miracle|   Carnival|  9|   88.5|     21.24|  9.63| 10.62|            41.67|10.3|\n",
      "|   Paradise|   Carnival| 15| 70.367|     20.52|  8.55|  10.2|            34.29| 9.2|\n",
      "|      Pride|   Carnival| 12|   88.5|     21.24|  9.63| 11.62|            41.67| 9.3|\n",
      "|  Sensation|   Carnival| 20| 70.367|     20.52|  8.55|  10.2|            34.29| 9.2|\n",
      "+-----------+-----------+---+-------+----------+------+------+-----------------+----+\n",
      "only showing top 20 rows\n",
      "\n"
     ]
    }
   ],
   "source": [
    "df = spark.createDataFrame(cruise_ship_info)\n",
    "df.show()"
   ]
  },
  {
   "cell_type": "code",
   "execution_count": 14,
   "id": "00116975",
   "metadata": {},
   "outputs": [
    {
     "name": "stdout",
     "output_type": "stream",
     "text": [
      "root\n",
      " |-- Ship_name: string (nullable = true)\n",
      " |-- Cruise_line: string (nullable = true)\n",
      " |-- Age: long (nullable = true)\n",
      " |-- Tonnage: double (nullable = true)\n",
      " |-- passengers: double (nullable = true)\n",
      " |-- length: double (nullable = true)\n",
      " |-- cabins: double (nullable = true)\n",
      " |-- passenger_density: double (nullable = true)\n",
      " |-- crew: double (nullable = true)\n",
      "\n"
     ]
    }
   ],
   "source": [
    "df.printSchema()"
   ]
  },
  {
   "cell_type": "markdown",
   "id": "7ffa1792",
   "metadata": {},
   "source": [
    "이 데이터프레임의 간단한 통계값은 다음과 같다."
   ]
  },
  {
   "cell_type": "code",
   "execution_count": 28,
   "id": "111d4d7e",
   "metadata": {},
   "outputs": [
    {
     "name": "stdout",
     "output_type": "stream",
     "text": [
      "+-------+---------+-----------+------------------+------------------+------------------+------------------+-----------------+-----------------+------------------+\n",
      "|summary|Ship_name|Cruise_line|               Age|           Tonnage|        passengers|            length|           cabins|passenger_density|              crew|\n",
      "+-------+---------+-----------+------------------+------------------+------------------+------------------+-----------------+-----------------+------------------+\n",
      "|  count|      158|        158|               158|               158|               158|               158|              158|              158|               158|\n",
      "|   mean| Infinity|       null|15.689873417721518| 71.28467088607594|18.457405063291148| 8.130632911392405|8.830000000000002|39.90094936708861|7.7941772151898725|\n",
      "| stddev|     null|       null| 7.615691058751412|37.229540025907866| 9.677094775143413|1.7934735480548247|4.471417222148062|8.639217113915418| 3.503486564627033|\n",
      "|    min|Adventure|    Azamara|                 4|             2.329|              0.66|              2.79|             0.33|             17.7|              0.59|\n",
      "|    max|Zuiderdam|   Windstar|                48|             220.0|              54.0|             11.82|             27.0|            71.43|              21.0|\n",
      "+-------+---------+-----------+------------------+------------------+------------------+------------------+-----------------+-----------------+------------------+\n",
      "\n"
     ]
    }
   ],
   "source": [
    "df.describe().show()"
   ]
  },
  {
   "cell_type": "markdown",
   "id": "c1e5d6b4",
   "metadata": {},
   "source": [
    "위 모양은 너무 안좋아서 가독성이 떨어지니 가독성을 `format_number`함수로 높이자!!"
   ]
  },
  {
   "cell_type": "code",
   "execution_count": 27,
   "id": "61079256",
   "metadata": {},
   "outputs": [],
   "source": [
    "from pyspark.sql.functions import format_number"
   ]
  },
  {
   "cell_type": "code",
   "execution_count": 29,
   "id": "e91fb5cd",
   "metadata": {},
   "outputs": [
    {
     "data": {
      "text/plain": [
       "['summary',\n",
       " 'Ship_name',\n",
       " 'Cruise_line',\n",
       " 'Age',\n",
       " 'Tonnage',\n",
       " 'passengers',\n",
       " 'length',\n",
       " 'cabins',\n",
       " 'passenger_density',\n",
       " 'crew']"
      ]
     },
     "execution_count": 29,
     "metadata": {},
     "output_type": "execute_result"
    }
   ],
   "source": [
    "df.describe().columns"
   ]
  },
  {
   "cell_type": "code",
   "execution_count": 32,
   "id": "1ac0faa9",
   "metadata": {},
   "outputs": [
    {
     "name": "stdout",
     "output_type": "stream",
     "text": [
      "+-------+---------+-----------+------+-------+----------+------+------+-----------------+------+\n",
      "|summary|Ship_name|Cruise_line|   Age|Tonnage|passengers|length|cabins|passenger_density|  crew|\n",
      "+-------+---------+-----------+------+-------+----------+------+------+-----------------+------+\n",
      "|  count|      158|        158|158.00| 158.00|    158.00|158.00|158.00|           158.00|158.00|\n",
      "|   mean| Infinity|       null| 15.69|  71.28|     18.46|  8.13|  8.83|            39.90|  7.79|\n",
      "| stddev|     null|       null|  7.62|  37.23|      9.68|  1.79|  4.47|             8.64|  3.50|\n",
      "|    min|Adventure|    Azamara|  4.00|   2.33|      0.66|  2.79|  0.33|            17.70|  0.59|\n",
      "|    max|Zuiderdam|   Windstar| 48.00| 220.00|     54.00| 11.82| 27.00|            71.43| 21.00|\n",
      "+-------+---------+-----------+------+-------+----------+------+------+-----------------+------+\n",
      "\n"
     ]
    }
   ],
   "source": [
    "summary = df.describe()\n",
    "summary.select(\n",
    "    summary['summary'],\n",
    "    summary['Ship_name'],\n",
    "    summary['Cruise_line'],\n",
    "    format_number(summary['Age'].cast('float'), 2).alias('Age'),\n",
    "    format_number(summary['Tonnage'].cast('float'), 2).alias('Tonnage'),\n",
    "    format_number(summary['passengers'].cast('float'), 2).alias('passengers'),\n",
    "    format_number(summary['length'].cast('float'), 2).alias('length'),\n",
    "    format_number(summary['cabins'].cast('float'), 2).alias('cabins'),\n",
    "    format_number(summary['passenger_density'].cast('float'), 2).alias('passenger_density'),\n",
    "    format_number(summary['crew'].cast('float'), 2).alias('crew')\n",
    ").show()"
   ]
  },
  {
   "cell_type": "markdown",
   "id": "0fefddd7",
   "metadata": {},
   "source": [
    "## Dealing with the Cruise_line categorical variable\n",
    "Ship Name은 쓸모없는 임의의 문자열이지만 cruise_line은 유용할 수가 있으므로 categorical variable로 만들자!"
   ]
  },
  {
   "cell_type": "code",
   "execution_count": 34,
   "id": "50631d9f",
   "metadata": {},
   "outputs": [
    {
     "name": "stdout",
     "output_type": "stream",
     "text": [
      "+-----------------+-----+\n",
      "|      Cruise_line|count|\n",
      "+-----------------+-----+\n",
      "|            Costa|   11|\n",
      "|              P&O|    6|\n",
      "|           Cunard|    3|\n",
      "|Regent_Seven_Seas|    5|\n",
      "|              MSC|    8|\n",
      "|         Carnival|   22|\n",
      "|          Crystal|    2|\n",
      "|           Orient|    1|\n",
      "|         Princess|   17|\n",
      "|        Silversea|    4|\n",
      "|         Seabourn|    3|\n",
      "| Holland_American|   14|\n",
      "|         Windstar|    3|\n",
      "|           Disney|    2|\n",
      "|        Norwegian|   13|\n",
      "|          Oceania|    3|\n",
      "|          Azamara|    2|\n",
      "|        Celebrity|   10|\n",
      "|             Star|    6|\n",
      "|  Royal_Caribbean|   23|\n",
      "+-----------------+-----+\n",
      "\n"
     ]
    }
   ],
   "source": [
    "df.groupBy('Cruise_line').count().show()"
   ]
  },
  {
   "cell_type": "markdown",
   "id": "857cb1c7",
   "metadata": {},
   "source": [
    "string을 categorical 변수로 만드는 방법은 `pyspark.ml.feature.StringIndexer`를 이용한다. "
   ]
  },
  {
   "cell_type": "code",
   "execution_count": 41,
   "id": "aecbbc97",
   "metadata": {},
   "outputs": [
    {
     "name": "stdout",
     "output_type": "stream",
     "text": [
      "+-----------+-----------+---+-------+----------+------+------+-----------------+----+----------+\n",
      "|  Ship_name|Cruise_line|Age|Tonnage|passengers|length|cabins|passenger_density|crew|cruise_cat|\n",
      "+-----------+-----------+---+-------+----------+------+------+-----------------+----+----------+\n",
      "|    Journey|    Azamara|  6| 30.277|      6.94|  5.94|  3.55|            42.64|3.55|      16.0|\n",
      "|      Quest|    Azamara|  6| 30.277|      6.94|  5.94|  3.55|            42.64|3.55|      16.0|\n",
      "|Celebration|   Carnival| 26| 47.262|     14.86|  7.22|  7.43|             31.8| 6.7|       1.0|\n",
      "|   Conquest|   Carnival| 11|  110.0|     29.74|  9.53| 14.88|            36.99|19.1|       1.0|\n",
      "|    Destiny|   Carnival| 17|101.353|     26.42|  8.92| 13.21|            38.36|10.0|       1.0|\n",
      "|    Ecstasy|   Carnival| 22| 70.367|     20.52|  8.55|  10.2|            34.29| 9.2|       1.0|\n",
      "|    Elation|   Carnival| 15| 70.367|     20.52|  8.55|  10.2|            34.29| 9.2|       1.0|\n",
      "|    Fantasy|   Carnival| 23| 70.367|     20.56|  8.55| 10.22|            34.23| 9.2|       1.0|\n",
      "|Fascination|   Carnival| 19| 70.367|     20.52|  8.55|  10.2|            34.29| 9.2|       1.0|\n",
      "|    Freedom|   Carnival|  6|110.239|      37.0|  9.51| 14.87|            29.79|11.5|       1.0|\n",
      "|      Glory|   Carnival| 10|  110.0|     29.74|  9.51| 14.87|            36.99|11.6|       1.0|\n",
      "|    Holiday|   Carnival| 28| 46.052|     14.52|  7.27|  7.26|            31.72| 6.6|       1.0|\n",
      "|Imagination|   Carnival| 18| 70.367|     20.52|  8.55|  10.2|            34.29| 9.2|       1.0|\n",
      "|Inspiration|   Carnival| 17| 70.367|     20.52|  8.55|  10.2|            34.29| 9.2|       1.0|\n",
      "|     Legend|   Carnival| 11|   86.0|     21.24|  9.63| 10.62|            40.49| 9.3|       1.0|\n",
      "|   Liberty*|   Carnival|  8|  110.0|     29.74|  9.51| 14.87|            36.99|11.6|       1.0|\n",
      "|    Miracle|   Carnival|  9|   88.5|     21.24|  9.63| 10.62|            41.67|10.3|       1.0|\n",
      "|   Paradise|   Carnival| 15| 70.367|     20.52|  8.55|  10.2|            34.29| 9.2|       1.0|\n",
      "|      Pride|   Carnival| 12|   88.5|     21.24|  9.63| 11.62|            41.67| 9.3|       1.0|\n",
      "|  Sensation|   Carnival| 20| 70.367|     20.52|  8.55|  10.2|            34.29| 9.2|       1.0|\n",
      "+-----------+-----------+---+-------+----------+------+------+-----------------+----+----------+\n",
      "only showing top 20 rows\n",
      "\n"
     ]
    }
   ],
   "source": [
    "from pyspark.ml.feature import StringIndexer\n",
    "indexer = StringIndexer(inputCol='Cruise_line', outputCol='cruise_cat')\n",
    "indexed = indexer.fit(df).transform(df)\n",
    "# indexed.take(5)\n",
    "indexed.show()"
   ]
  },
  {
   "cell_type": "code",
   "execution_count": 42,
   "id": "72970f42",
   "metadata": {},
   "outputs": [],
   "source": [
    "from pyspark.ml.linalg import Vector\n",
    "from pyspark.ml.feature import VectorAssembler"
   ]
  },
  {
   "cell_type": "code",
   "execution_count": 43,
   "id": "47244272",
   "metadata": {},
   "outputs": [
    {
     "data": {
      "text/plain": [
       "['Ship_name',\n",
       " 'Cruise_line',\n",
       " 'Age',\n",
       " 'Tonnage',\n",
       " 'passengers',\n",
       " 'length',\n",
       " 'cabins',\n",
       " 'passenger_density',\n",
       " 'crew',\n",
       " 'cruise_cat']"
      ]
     },
     "execution_count": 43,
     "metadata": {},
     "output_type": "execute_result"
    }
   ],
   "source": [
    "indexed.columns"
   ]
  },
  {
   "cell_type": "markdown",
   "id": "e8f3522e",
   "metadata": {},
   "source": [
    "데이터들은 VectorAssembler를 이용하여 합친다."
   ]
  },
  {
   "cell_type": "code",
   "execution_count": 52,
   "id": "e107639a",
   "metadata": {},
   "outputs": [],
   "source": [
    "assembler = VectorAssembler(\n",
    "    inputCols=['Age',\n",
    "               'Tonnage',\n",
    "               'passengers',\n",
    "               'length',\n",
    "               'cabins',\n",
    "               'passenger_density',\n",
    "               'cruise_cat'],\n",
    "    outputCol=\"features\"\n",
    ")"
   ]
  },
  {
   "cell_type": "code",
   "execution_count": 53,
   "id": "2cfc3c4c",
   "metadata": {},
   "outputs": [],
   "source": [
    "output = assembler.transform(indexed)"
   ]
  },
  {
   "cell_type": "code",
   "execution_count": 54,
   "id": "cdefb7b6",
   "metadata": {},
   "outputs": [
    {
     "name": "stdout",
     "output_type": "stream",
     "text": [
      "+--------------------+----+\n",
      "|            features|crew|\n",
      "+--------------------+----+\n",
      "|[6.0,30.277,6.94,...|3.55|\n",
      "|[6.0,30.277,6.94,...|3.55|\n",
      "|[26.0,47.262,14.8...| 6.7|\n",
      "|[11.0,110.0,29.74...|19.1|\n",
      "|[17.0,101.353,26....|10.0|\n",
      "|[22.0,70.367,20.5...| 9.2|\n",
      "|[15.0,70.367,20.5...| 9.2|\n",
      "|[23.0,70.367,20.5...| 9.2|\n",
      "|[19.0,70.367,20.5...| 9.2|\n",
      "|[6.0,110.239,37.0...|11.5|\n",
      "|[10.0,110.0,29.74...|11.6|\n",
      "|[28.0,46.052,14.5...| 6.6|\n",
      "|[18.0,70.367,20.5...| 9.2|\n",
      "|[17.0,70.367,20.5...| 9.2|\n",
      "|[11.0,86.0,21.24,...| 9.3|\n",
      "|[8.0,110.0,29.74,...|11.6|\n",
      "|[9.0,88.5,21.24,9...|10.3|\n",
      "|[15.0,70.367,20.5...| 9.2|\n",
      "|[12.0,88.5,21.24,...| 9.3|\n",
      "|[20.0,70.367,20.5...| 9.2|\n",
      "+--------------------+----+\n",
      "only showing top 20 rows\n",
      "\n"
     ]
    }
   ],
   "source": [
    "output.select(\"features\", \"crew\").show()"
   ]
  },
  {
   "cell_type": "code",
   "execution_count": 56,
   "id": "de0071f7",
   "metadata": {},
   "outputs": [],
   "source": [
    "final_data = output.select(\"features\", \"crew\")"
   ]
  },
  {
   "cell_type": "markdown",
   "id": "4587b512",
   "metadata": {},
   "source": [
    "데이터를 훈련 70%, 테스트 30%로 분리"
   ]
  },
  {
   "cell_type": "code",
   "execution_count": 58,
   "id": "5d26042e",
   "metadata": {},
   "outputs": [],
   "source": [
    "train_data, test_data = final_data.randomSplit([0.7, 0.3])"
   ]
  },
  {
   "cell_type": "markdown",
   "id": "cd3d8259",
   "metadata": {},
   "source": [
    "머신러닝 모델을 임포트한다."
   ]
  },
  {
   "cell_type": "code",
   "execution_count": 59,
   "id": "106d99fa",
   "metadata": {},
   "outputs": [],
   "source": [
    "from pyspark.ml.regression import LinearRegression\n",
    "\n",
    "# Create a Linear Regression Model object\n",
    "lr = LinearRegression(labelCol='crew')"
   ]
  },
  {
   "cell_type": "code",
   "execution_count": 60,
   "id": "ab884bde",
   "metadata": {},
   "outputs": [],
   "source": [
    "# Fit the model to the data and cell this model lrModel\n",
    "lrModel = lr.fit(train_data)"
   ]
  },
  {
   "cell_type": "code",
   "execution_count": 63,
   "id": "ea89b74b",
   "metadata": {},
   "outputs": [
    {
     "name": "stdout",
     "output_type": "stream",
     "text": [
      "Coeffifients: [-0.013212300187179156,0.013439477517109303,-0.15972137899026934,0.41712345581937577,0.8489020304260144,-0.009166958930580426,0.06371581235596006] \n",
      "Intercept: -0.8342786207559152\n"
     ]
    }
   ],
   "source": [
    "# print the coefficients and intercept for linear regression\n",
    "coef = lrModel.coefficients\n",
    "icept = lrModel.intercept\n",
    "print(f\"Coeffifients: {coef} \\nIntercept: {icept}\")"
   ]
  },
  {
   "cell_type": "markdown",
   "id": "200a5dbe",
   "metadata": {},
   "source": [
    "test데이터의 평가는 evaluate를 이용한다."
   ]
  },
  {
   "cell_type": "code",
   "execution_count": 64,
   "id": "7c7b1928",
   "metadata": {},
   "outputs": [],
   "source": [
    "test_results = lrModel.evaluate(test_data)"
   ]
  },
  {
   "cell_type": "code",
   "execution_count": 65,
   "id": "8f36382b",
   "metadata": {},
   "outputs": [
    {
     "name": "stdout",
     "output_type": "stream",
     "text": [
      "RMSE: 0.546254296608282\n",
      "MSE: 0.2983937565630088\n",
      "R2: 0.9671733267796191\n"
     ]
    }
   ],
   "source": [
    "print(\"RMSE: {}\".format(test_results.rootMeanSquaredError))\n",
    "print(\"MSE: {}\".format(test_results.meanSquaredError))\n",
    "print(\"R2: {}\".format(test_results.r2))"
   ]
  },
  {
   "cell_type": "markdown",
   "id": "3e3d9ea0",
   "metadata": {},
   "source": [
    "$R^{2}$값이 0.96으로 꽤 높다. 조금더 살펴보면"
   ]
  },
  {
   "cell_type": "code",
   "execution_count": 66,
   "id": "e16498e5",
   "metadata": {},
   "outputs": [],
   "source": [
    "from pyspark.sql.functions import corr"
   ]
  },
  {
   "cell_type": "code",
   "execution_count": 71,
   "id": "879d1361",
   "metadata": {},
   "outputs": [
    {
     "name": "stdout",
     "output_type": "stream",
     "text": [
      "+------------------+\n",
      "|              corr|\n",
      "+------------------+\n",
      "|0.9152341306065387|\n",
      "+------------------+\n",
      "\n"
     ]
    }
   ],
   "source": [
    "df.select(corr(\"crew\", \"passengers\"))\\\n",
    "        .withColumnRenamed(\"corr(crew, passengers)\", \"corr\")\\\n",
    "        .show()"
   ]
  },
  {
   "cell_type": "code",
   "execution_count": 72,
   "id": "623103f0",
   "metadata": {},
   "outputs": [
    {
     "name": "stdout",
     "output_type": "stream",
     "text": [
      "+----------------+\n",
      "|            corr|\n",
      "+----------------+\n",
      "|0.95082260635785|\n",
      "+----------------+\n",
      "\n"
     ]
    }
   ],
   "source": [
    "df.select(corr(\"crew\", \"cabins\"))\\\n",
    "        .withColumnRenamed(\"corr(crew, cabins)\", \"corr\")\\\n",
    "        .show()"
   ]
  }
 ],
 "metadata": {
  "kernelspec": {
   "display_name": "py38",
   "language": "python",
   "name": "py38"
  },
  "language_info": {
   "codemirror_mode": {
    "name": "ipython",
    "version": 3
   },
   "file_extension": ".py",
   "mimetype": "text/x-python",
   "name": "python",
   "nbconvert_exporter": "python",
   "pygments_lexer": "ipython3",
   "version": "3.8.8"
  }
 },
 "nbformat": 4,
 "nbformat_minor": 5
}
