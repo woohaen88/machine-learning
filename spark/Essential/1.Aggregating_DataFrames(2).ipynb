{
 "cells": [
  {
   "cell_type": "markdown",
   "id": "5eb35d60",
   "metadata": {},
   "source": [
    "# Aggregating DataFrames in PySpark\n",
    "\n",
    " - GroupBy\n",
    " - Pivot\n",
    " - Aggregate methods\n",
    " - Combos of each"
   ]
  },
  {
   "cell_type": "code",
   "execution_count": 1,
   "id": "03cc017c",
   "metadata": {},
   "outputs": [
    {
     "name": "stdout",
     "output_type": "stream",
     "text": [
      "cores : 1\n"
     ]
    },
    {
     "data": {
      "text/html": [
       "\n",
       "            <div>\n",
       "                <p><b>SparkSession - in-memory</b></p>\n",
       "                \n",
       "        <div>\n",
       "            <p><b>SparkContext</b></p>\n",
       "\n",
       "            <p><a href=\"http://ip-172-31-44-243.ap-northeast-2.compute.internal:4040\">Spark UI</a></p>\n",
       "\n",
       "            <dl>\n",
       "              <dt>Version</dt>\n",
       "                <dd><code>v3.1.1</code></dd>\n",
       "              <dt>Master</dt>\n",
       "                <dd><code>local[*]</code></dd>\n",
       "              <dt>AppName</dt>\n",
       "                <dd><code>agg2</code></dd>\n",
       "            </dl>\n",
       "        </div>\n",
       "        \n",
       "            </div>\n",
       "        "
      ],
      "text/plain": [
       "<pyspark.sql.session.SparkSession at 0x7ffabf7c1130>"
      ]
     },
     "execution_count": 1,
     "metadata": {},
     "output_type": "execute_result"
    }
   ],
   "source": [
    "from pyspark.sql import SparkSession\n",
    "\n",
    "spark = SparkSession.builder.appName('agg2').getOrCreate()\n",
    "cores = spark._jsc.sc().getExecutorMemoryStatus().keySet().size()\n",
    "print('cores : {}'.format(cores))\n",
    "spark"
   ]
  },
  {
   "cell_type": "code",
   "execution_count": 3,
   "id": "aedadf53",
   "metadata": {},
   "outputs": [],
   "source": [
    "import pandas as pd\n",
    "airbnb = pd.read_csv('s3://************/nyc_air_bnb.csv')\n",
    "for col in airbnb.columns:\n",
    "    airbnb[col] = airbnb[col].astype('str')\n",
    "airbnb = spark.createDataFrame(airbnb)"
   ]
  },
  {
   "cell_type": "code",
   "execution_count": 4,
   "id": "bc01e806",
   "metadata": {},
   "outputs": [
    {
     "name": "stdout",
     "output_type": "stream",
     "text": [
      "root\n",
      " |-- id: string (nullable = true)\n",
      " |-- name: string (nullable = true)\n",
      " |-- host_id: string (nullable = true)\n",
      " |-- host_name: string (nullable = true)\n",
      " |-- neighbourhood_group: string (nullable = true)\n",
      " |-- neighbourhood: string (nullable = true)\n",
      " |-- latitude: string (nullable = true)\n",
      " |-- longitude: string (nullable = true)\n",
      " |-- room_type: string (nullable = true)\n",
      " |-- price: string (nullable = true)\n",
      " |-- minimum_nights: string (nullable = true)\n",
      " |-- number_of_reviews: string (nullable = true)\n",
      " |-- last_review: string (nullable = true)\n",
      " |-- reviews_per_month: string (nullable = true)\n",
      " |-- calculated_host_listings_count: string (nullable = true)\n",
      " |-- availability_365: string (nullable = true)\n",
      "\n"
     ]
    }
   ],
   "source": [
    "airbnb.printSchema()"
   ]
  },
  {
   "cell_type": "code",
   "execution_count": 5,
   "id": "c1dae12e",
   "metadata": {},
   "outputs": [
    {
     "data": {
      "text/html": [
       "<div>\n",
       "<style scoped>\n",
       "    .dataframe tbody tr th:only-of-type {\n",
       "        vertical-align: middle;\n",
       "    }\n",
       "\n",
       "    .dataframe tbody tr th {\n",
       "        vertical-align: top;\n",
       "    }\n",
       "\n",
       "    .dataframe thead th {\n",
       "        text-align: right;\n",
       "    }\n",
       "</style>\n",
       "<table border=\"1\" class=\"dataframe\">\n",
       "  <thead>\n",
       "    <tr style=\"text-align: right;\">\n",
       "      <th></th>\n",
       "      <th>id</th>\n",
       "      <th>name</th>\n",
       "      <th>host_id</th>\n",
       "      <th>host_name</th>\n",
       "      <th>neighbourhood_group</th>\n",
       "      <th>neighbourhood</th>\n",
       "      <th>latitude</th>\n",
       "      <th>longitude</th>\n",
       "      <th>room_type</th>\n",
       "      <th>price</th>\n",
       "      <th>minimum_nights</th>\n",
       "      <th>number_of_reviews</th>\n",
       "      <th>last_review</th>\n",
       "      <th>reviews_per_month</th>\n",
       "      <th>calculated_host_listings_count</th>\n",
       "      <th>availability_365</th>\n",
       "    </tr>\n",
       "  </thead>\n",
       "  <tbody>\n",
       "    <tr>\n",
       "      <th>0</th>\n",
       "      <td>2539</td>\n",
       "      <td>Clean &amp; quiet apt home by the park</td>\n",
       "      <td>2787</td>\n",
       "      <td>John</td>\n",
       "      <td>Brooklyn</td>\n",
       "      <td>Kensington</td>\n",
       "      <td>40.64749</td>\n",
       "      <td>-73.97237</td>\n",
       "      <td>Private room</td>\n",
       "      <td>149</td>\n",
       "      <td>1</td>\n",
       "      <td>9</td>\n",
       "      <td>2018-10-19</td>\n",
       "      <td>0.21</td>\n",
       "      <td>6</td>\n",
       "      <td>365</td>\n",
       "    </tr>\n",
       "    <tr>\n",
       "      <th>1</th>\n",
       "      <td>2595</td>\n",
       "      <td>Skylit Midtown Castle</td>\n",
       "      <td>2845</td>\n",
       "      <td>Jennifer</td>\n",
       "      <td>Manhattan</td>\n",
       "      <td>Midtown</td>\n",
       "      <td>40.75362</td>\n",
       "      <td>-73.98377</td>\n",
       "      <td>Entire home/apt</td>\n",
       "      <td>225</td>\n",
       "      <td>1</td>\n",
       "      <td>45</td>\n",
       "      <td>2019-05-21</td>\n",
       "      <td>0.38</td>\n",
       "      <td>2</td>\n",
       "      <td>355</td>\n",
       "    </tr>\n",
       "  </tbody>\n",
       "</table>\n",
       "</div>"
      ],
      "text/plain": [
       "     id                                name host_id host_name  \\\n",
       "0  2539  Clean & quiet apt home by the park    2787      John   \n",
       "1  2595               Skylit Midtown Castle    2845  Jennifer   \n",
       "\n",
       "  neighbourhood_group neighbourhood  latitude  longitude        room_type  \\\n",
       "0            Brooklyn    Kensington  40.64749  -73.97237     Private room   \n",
       "1           Manhattan       Midtown  40.75362  -73.98377  Entire home/apt   \n",
       "\n",
       "  price minimum_nights number_of_reviews last_review reviews_per_month  \\\n",
       "0   149              1                 9  2018-10-19              0.21   \n",
       "1   225              1                45  2019-05-21              0.38   \n",
       "\n",
       "  calculated_host_listings_count availability_365  \n",
       "0                              6              365  \n",
       "1                              2              355  "
      ]
     },
     "execution_count": 5,
     "metadata": {},
     "output_type": "execute_result"
    }
   ],
   "source": [
    "airbnb.limit(2).toPandas()"
   ]
  },
  {
   "cell_type": "code",
   "execution_count": 6,
   "id": "730e026b",
   "metadata": {},
   "outputs": [],
   "source": [
    "numeric_col = ['latitude', #double,\n",
    "            'longitude', #double\n",
    "            'price' , #int\n",
    "            'minimum_nights', #int\n",
    "            'number_of_reviews', #int\n",
    "            'reviews_per_month', #double\n",
    "            'calculated_host_listings_count', #int\n",
    "            'availability_365'] # int]"
   ]
  },
  {
   "cell_type": "code",
   "execution_count": 7,
   "id": "6dae564e",
   "metadata": {},
   "outputs": [
    {
     "name": "stdout",
     "output_type": "stream",
     "text": [
      "root\n",
      " |-- id: string (nullable = true)\n",
      " |-- name: string (nullable = true)\n",
      " |-- host_id: string (nullable = true)\n",
      " |-- host_name: string (nullable = true)\n",
      " |-- neighbourhood_group: string (nullable = true)\n",
      " |-- neighbourhood: string (nullable = true)\n",
      " |-- latitude: double (nullable = true)\n",
      " |-- longitude: double (nullable = true)\n",
      " |-- room_type: string (nullable = true)\n",
      " |-- price: integer (nullable = true)\n",
      " |-- minimum_nights: integer (nullable = true)\n",
      " |-- number_of_reviews: integer (nullable = true)\n",
      " |-- last_review: string (nullable = true)\n",
      " |-- reviews_per_month: double (nullable = true)\n",
      " |-- calculated_host_listings_count: integer (nullable = true)\n",
      " |-- availability_365: integer (nullable = true)\n",
      "\n"
     ]
    }
   ],
   "source": [
    "from pyspark.sql.functions import col\n",
    "from pyspark.sql.types import DoubleType, IntegerType\n",
    "\n",
    "df = airbnb.withColumn('latitude', col('latitude').cast(DoubleType())) \\\n",
    "    .withColumn('longitude', col('longitude').cast(DoubleType())) \\\n",
    "    .withColumn('price', col('price').cast(IntegerType())) \\\n",
    "    .withColumn('minimum_nights', col('minimum_nights').cast(IntegerType())) \\\n",
    "    .withColumn('number_of_reviews', col('number_of_reviews').cast(IntegerType())) \\\n",
    "    .withColumn('reviews_per_month', col('reviews_per_month').cast(DoubleType())) \\\n",
    "    .withColumn('calculated_host_listings_count', col('calculated_host_listings_count').cast(IntegerType()))\\\n",
    "    .withColumn('availability_365', col('availability_365').cast(IntegerType()))\n",
    "df.printSchema()"
   ]
  },
  {
   "cell_type": "markdown",
   "id": "ae5b419c",
   "metadata": {},
   "source": [
    "# GroupBy and Aggregate Functions"
   ]
  },
  {
   "cell_type": "code",
   "execution_count": 8,
   "id": "ace01a1f",
   "metadata": {},
   "outputs": [
    {
     "name": "stdout",
     "output_type": "stream",
     "text": [
      "+-------------------+-----+\n",
      "|neighbourhood_group|count|\n",
      "+-------------------+-----+\n",
      "|             Queens| 5666|\n",
      "|           Brooklyn|20104|\n",
      "|      Staten Island|  373|\n",
      "|          Manhattan|21661|\n",
      "|              Bronx| 1091|\n",
      "+-------------------+-----+\n",
      "\n"
     ]
    }
   ],
   "source": [
    "df.groupBy(\"neighbourhood_group\").count().show(7)"
   ]
  },
  {
   "cell_type": "code",
   "execution_count": 10,
   "id": "0db4335e",
   "metadata": {},
   "outputs": [
    {
     "name": "stdout",
     "output_type": "stream",
     "text": [
      "+-------------------+------------------+\n",
      "|neighbourhood_group|        avg(price)|\n",
      "+-------------------+------------------+\n",
      "|             Queens| 99.51764913519237|\n",
      "|           Brooklyn|124.38320732192598|\n",
      "|      Staten Island|114.81233243967829|\n",
      "|          Manhattan| 196.8758136743456|\n",
      "|              Bronx|  87.4967919340055|\n",
      "+-------------------+------------------+\n",
      "\n"
     ]
    }
   ],
   "source": [
    "# Then you can add the following aggregate functions: mean, count, min, max, sum\n",
    "# Like this for example\n",
    "df.groupBy(\"neighbourhood_group\").mean(\"price\").show(5)"
   ]
  },
  {
   "cell_type": "code",
   "execution_count": 11,
   "id": "d1cad3eb",
   "metadata": {},
   "outputs": [
    {
     "name": "stdout",
     "output_type": "stream",
     "text": [
      "+-------------+----------+\n",
      "|neighbourhood|avg(price)|\n",
      "+-------------+----------+\n",
      "|       Corona| 59.171875|\n",
      "| Richmondtown|      78.0|\n",
      "| Prince's Bay|     409.5|\n",
      "|  Westerleigh|      71.5|\n",
      "|   Mill Basin|    179.75|\n",
      "+-------------+----------+\n",
      "only showing top 5 rows\n",
      "\n"
     ]
    }
   ],
   "source": [
    "# This is another way of doing the above but I don't recommend it\n",
    "# because you can only do one var at a time\n",
    "df.groupBy(\"neighbourhood\").agg({'price' : 'mean'}).show(5)"
   ]
  },
  {
   "cell_type": "code",
   "execution_count": 15,
   "id": "81483e36",
   "metadata": {},
   "outputs": [
    {
     "name": "stdout",
     "output_type": "stream",
     "text": [
      "+-------------+---------+---------+\n",
      "|neighbourhood|Min_Price|Max_Price|\n",
      "+-------------+---------+---------+\n",
      "|       Corona|       23|      359|\n",
      "| Richmondtown|       78|       78|\n",
      "| Prince's Bay|       85|     1250|\n",
      "|  Westerleigh|       40|      103|\n",
      "|   Mill Basin|       85|      299|\n",
      "+-------------+---------+---------+\n",
      "only showing top 5 rows\n",
      "\n"
     ]
    }
   ],
   "source": [
    "# This method is way more versatile\n",
    "# Allows you to call on more than one aggregate function at a time\n",
    "from pyspark.sql.functions import min, max\n",
    "\n",
    "df.groupBy(\"neighbourhood\").agg(min(df.price).alias(\"Min_Price\"), \\\n",
    "                                max(df.price).alias(\"Max_Price\")).show(5)"
   ]
  },
  {
   "cell_type": "code",
   "execution_count": 17,
   "id": "7061842b",
   "metadata": {},
   "outputs": [
    {
     "data": {
      "text/html": [
       "<div>\n",
       "<style scoped>\n",
       "    .dataframe tbody tr th:only-of-type {\n",
       "        vertical-align: middle;\n",
       "    }\n",
       "\n",
       "    .dataframe tbody tr th {\n",
       "        vertical-align: top;\n",
       "    }\n",
       "\n",
       "    .dataframe thead th {\n",
       "        text-align: right;\n",
       "    }\n",
       "</style>\n",
       "<table border=\"1\" class=\"dataframe\">\n",
       "  <thead>\n",
       "    <tr style=\"text-align: right;\">\n",
       "      <th></th>\n",
       "      <th>summary</th>\n",
       "      <th>id</th>\n",
       "      <th>name</th>\n",
       "      <th>host_id</th>\n",
       "      <th>host_name</th>\n",
       "      <th>neighbourhood_group</th>\n",
       "      <th>neighbourhood</th>\n",
       "      <th>latitude</th>\n",
       "      <th>longitude</th>\n",
       "      <th>room_type</th>\n",
       "      <th>price</th>\n",
       "      <th>minimum_nights</th>\n",
       "      <th>number_of_reviews</th>\n",
       "      <th>last_review</th>\n",
       "      <th>reviews_per_month</th>\n",
       "      <th>calculated_host_listings_count</th>\n",
       "      <th>availability_365</th>\n",
       "    </tr>\n",
       "  </thead>\n",
       "  <tbody>\n",
       "    <tr>\n",
       "      <th>0</th>\n",
       "      <td>count</td>\n",
       "      <td>48895</td>\n",
       "      <td>48895</td>\n",
       "      <td>48895</td>\n",
       "      <td>48895</td>\n",
       "      <td>48895</td>\n",
       "      <td>48895</td>\n",
       "      <td>48895</td>\n",
       "      <td>48895</td>\n",
       "      <td>48895</td>\n",
       "      <td>48895</td>\n",
       "      <td>48895</td>\n",
       "      <td>48895</td>\n",
       "      <td>48895</td>\n",
       "      <td>48895</td>\n",
       "      <td>48895</td>\n",
       "      <td>48895</td>\n",
       "    </tr>\n",
       "    <tr>\n",
       "      <th>1</th>\n",
       "      <td>min</td>\n",
       "      <td>10000070</td>\n",
       "      <td>1 Bed Apt in Utopic Williamsburg</td>\n",
       "      <td>1000014</td>\n",
       "      <td>'Cil</td>\n",
       "      <td>Bronx</td>\n",
       "      <td>Allerton</td>\n",
       "      <td>40.49979</td>\n",
       "      <td>-74.24442</td>\n",
       "      <td>Entire home/apt</td>\n",
       "      <td>0</td>\n",
       "      <td>1</td>\n",
       "      <td>0</td>\n",
       "      <td>2011-03-28</td>\n",
       "      <td>0.01</td>\n",
       "      <td>1</td>\n",
       "      <td>0</td>\n",
       "    </tr>\n",
       "    <tr>\n",
       "      <th>2</th>\n",
       "      <td>25%</td>\n",
       "      <td>9470677.0</td>\n",
       "      <td>2.0</td>\n",
       "      <td>7817764.0</td>\n",
       "      <td>NaN</td>\n",
       "      <td>None</td>\n",
       "      <td>None</td>\n",
       "      <td>40.69008</td>\n",
       "      <td>-73.98308</td>\n",
       "      <td>None</td>\n",
       "      <td>69</td>\n",
       "      <td>1</td>\n",
       "      <td>1</td>\n",
       "      <td>NaN</td>\n",
       "      <td>0.28</td>\n",
       "      <td>1</td>\n",
       "      <td>0</td>\n",
       "    </tr>\n",
       "    <tr>\n",
       "      <th>3</th>\n",
       "      <td>75%</td>\n",
       "      <td>2.915232E7</td>\n",
       "      <td>NaN</td>\n",
       "      <td>1.07434423E8</td>\n",
       "      <td>NaN</td>\n",
       "      <td>None</td>\n",
       "      <td>None</td>\n",
       "      <td>40.7631</td>\n",
       "      <td>-73.93629</td>\n",
       "      <td>None</td>\n",
       "      <td>175</td>\n",
       "      <td>5</td>\n",
       "      <td>24</td>\n",
       "      <td>NaN</td>\n",
       "      <td>4.49</td>\n",
       "      <td>2</td>\n",
       "      <td>227</td>\n",
       "    </tr>\n",
       "    <tr>\n",
       "      <th>4</th>\n",
       "      <td>max</td>\n",
       "      <td>9999939</td>\n",
       "      <td>ﾏﾝﾊｯﾀﾝ､駅から徒歩4分でどこに行くのにも便利な場所!女性の方希望,ｷﾚｲなお部屋｡</td>\n",
       "      <td>9997988</td>\n",
       "      <td>현선</td>\n",
       "      <td>Staten Island</td>\n",
       "      <td>Woodside</td>\n",
       "      <td>40.91306</td>\n",
       "      <td>-73.71299</td>\n",
       "      <td>Shared room</td>\n",
       "      <td>10000</td>\n",
       "      <td>1250</td>\n",
       "      <td>629</td>\n",
       "      <td>nan</td>\n",
       "      <td>NaN</td>\n",
       "      <td>327</td>\n",
       "      <td>365</td>\n",
       "    </tr>\n",
       "  </tbody>\n",
       "</table>\n",
       "</div>"
      ],
      "text/plain": [
       "  summary          id                                          name  \\\n",
       "0   count       48895                                         48895   \n",
       "1     min    10000070             1 Bed Apt in Utopic Williamsburg    \n",
       "2     25%   9470677.0                                           2.0   \n",
       "3     75%  2.915232E7                                           NaN   \n",
       "4     max     9999939  ﾏﾝﾊｯﾀﾝ､駅から徒歩4分でどこに行くのにも便利な場所!女性の方希望,ｷﾚｲなお部屋｡   \n",
       "\n",
       "        host_id host_name neighbourhood_group neighbourhood  latitude  \\\n",
       "0         48895     48895               48895         48895     48895   \n",
       "1       1000014      'Cil               Bronx      Allerton  40.49979   \n",
       "2     7817764.0       NaN                None          None  40.69008   \n",
       "3  1.07434423E8       NaN                None          None   40.7631   \n",
       "4       9997988        현선       Staten Island      Woodside  40.91306   \n",
       "\n",
       "   longitude        room_type  price minimum_nights number_of_reviews  \\\n",
       "0      48895            48895  48895          48895             48895   \n",
       "1  -74.24442  Entire home/apt      0              1                 0   \n",
       "2  -73.98308             None     69              1                 1   \n",
       "3  -73.93629             None    175              5                24   \n",
       "4  -73.71299      Shared room  10000           1250               629   \n",
       "\n",
       "  last_review reviews_per_month calculated_host_listings_count  \\\n",
       "0       48895             48895                          48895   \n",
       "1  2011-03-28              0.01                              1   \n",
       "2         NaN              0.28                              1   \n",
       "3         NaN              4.49                              2   \n",
       "4         nan               NaN                            327   \n",
       "\n",
       "  availability_365  \n",
       "0            48895  \n",
       "1                0  \n",
       "2                0  \n",
       "3              227  \n",
       "4              365  "
      ]
     },
     "execution_count": 17,
     "metadata": {},
     "output_type": "execute_result"
    }
   ],
   "source": [
    "summary = df.summary(\"count\", \"min\", \"25%\", \"75%\", \"max\")\n",
    "summary.toPandas()"
   ]
  },
  {
   "cell_type": "code",
   "execution_count": 18,
   "id": "b630eba6",
   "metadata": {},
   "outputs": [
    {
     "data": {
      "text/html": [
       "<div>\n",
       "<style scoped>\n",
       "    .dataframe tbody tr th:only-of-type {\n",
       "        vertical-align: middle;\n",
       "    }\n",
       "\n",
       "    .dataframe tbody tr th {\n",
       "        vertical-align: top;\n",
       "    }\n",
       "\n",
       "    .dataframe thead th {\n",
       "        text-align: right;\n",
       "    }\n",
       "</style>\n",
       "<table border=\"1\" class=\"dataframe\">\n",
       "  <thead>\n",
       "    <tr style=\"text-align: right;\">\n",
       "      <th></th>\n",
       "      <th>summary</th>\n",
       "      <th>price</th>\n",
       "      <th>minimum_nights</th>\n",
       "      <th>number_of_reviews</th>\n",
       "    </tr>\n",
       "  </thead>\n",
       "  <tbody>\n",
       "    <tr>\n",
       "      <th>0</th>\n",
       "      <td>count</td>\n",
       "      <td>48895</td>\n",
       "      <td>48895</td>\n",
       "      <td>48895</td>\n",
       "    </tr>\n",
       "    <tr>\n",
       "      <th>1</th>\n",
       "      <td>min</td>\n",
       "      <td>0</td>\n",
       "      <td>1</td>\n",
       "      <td>0</td>\n",
       "    </tr>\n",
       "    <tr>\n",
       "      <th>2</th>\n",
       "      <td>max</td>\n",
       "      <td>10000</td>\n",
       "      <td>1250</td>\n",
       "      <td>629</td>\n",
       "    </tr>\n",
       "  </tbody>\n",
       "</table>\n",
       "</div>"
      ],
      "text/plain": [
       "  summary  price minimum_nights number_of_reviews\n",
       "0   count  48895          48895             48895\n",
       "1     min      0              1                 0\n",
       "2     max  10000           1250               629"
      ]
     },
     "execution_count": 18,
     "metadata": {},
     "output_type": "execute_result"
    }
   ],
   "source": [
    "limit_summary = df.select(\"price\", \"minimum_nights\", \"number_of_reviews\").summary(\"count\", \"min\", \"max\")\n",
    "limit_summary.toPandas()"
   ]
  },
  {
   "cell_type": "markdown",
   "id": "58527a02",
   "metadata": {},
   "source": [
    "### Aggregate on the entire DataFrame without groups (shorthand for df.groupBy.agg())."
   ]
  },
  {
   "cell_type": "code",
   "execution_count": 21,
   "id": "b8c005a1",
   "metadata": {},
   "outputs": [
    {
     "name": "stdout",
     "output_type": "stream",
     "text": [
      "+---------+---------+\n",
      "|Min_Price|Max_Price|\n",
      "+---------+---------+\n",
      "|        0|    10000|\n",
      "+---------+---------+\n",
      "\n"
     ]
    }
   ],
   "source": [
    "from pyspark.sql.functions import min, max\n",
    "\n",
    "df.agg(min(df.price).alias(\"Min_Price\"), \\\n",
    "       max(df.price).alias(\"Max_Price\")).show()"
   ]
  },
  {
   "cell_type": "code",
   "execution_count": 25,
   "id": "9c668ee2",
   "metadata": {},
   "outputs": [
    {
     "name": "stdout",
     "output_type": "stream",
     "text": [
      "+------+-----------------+------------------+\n",
      "|CountD|       avg(price)|stddev_samp(price)|\n",
      "+------+-----------------+------------------+\n",
      "|     5|152.7206871868289|240.15416974718752|\n",
      "+------+-----------------+------------------+\n",
      "\n"
     ]
    }
   ],
   "source": [
    "from pyspark.sql.functions import countDistinct, avg, stddev\n",
    "\n",
    "df.select(countDistinct(\"neighbourhood_group\").alias(\"CountD\"), \\\n",
    "          avg(\"price\"), \\\n",
    "          stddev(\"price\")).show()"
   ]
  },
  {
   "cell_type": "markdown",
   "id": "16566e97",
   "metadata": {},
   "source": [
    "### Pivot Function\n",
    "\n",
    "Provides a two way table and must be used in conjunction with groupBy."
   ]
  },
  {
   "cell_type": "code",
   "execution_count": 26,
   "id": "068ca9c7",
   "metadata": {},
   "outputs": [
    {
     "name": "stdout",
     "output_type": "stream",
     "text": [
      "+---------------+------+--------+\n",
      "|      room_type|Queens|Brooklyn|\n",
      "+---------------+------+--------+\n",
      "|    Shared room|   198|     413|\n",
      "|Entire home/apt|  2096|    9559|\n",
      "|   Private room|  3372|   10132|\n",
      "+---------------+------+--------+\n",
      "\n"
     ]
    }
   ],
   "source": [
    "# Pivot Function\n",
    "# pivot(pivot_col, values=None)\n",
    "df.groupBy(\"room_type\").pivot(\"neighbourhood_group\", [\"Queens\", \"Brooklyn\"]).count().show(10)"
   ]
  },
  {
   "cell_type": "code",
   "execution_count": 30,
   "id": "6441110f",
   "metadata": {},
   "outputs": [
    {
     "name": "stdout",
     "output_type": "stream",
     "text": [
      "+-----------+------+--------+\n",
      "|  room_type|Queens|Brooklyn|\n",
      "+-----------+------+--------+\n",
      "|Shared room|   198|     413|\n",
      "+-----------+------+--------+\n",
      "\n"
     ]
    }
   ],
   "source": [
    "# You can also filter your results if you need to\n",
    "# We some invalid data in the above output\n",
    "# So we could select only the \"Share room\" types if we wanted to\n",
    "df.filter(\"room_type='Shared room'\").groupBy(\"room_type\")\\\n",
    "    .pivot(\"neighbourhood_group\", [\"Queens\", \"Brooklyn\"])\\\n",
    "    .count()\\\n",
    "    .show(100)"
   ]
  },
  {
   "cell_type": "markdown",
   "id": "b7132abd",
   "metadata": {},
   "source": [
    "### Comine all three!\n",
    "\n",
    "It is also possible to combine all three method into one call: GroupBy, Pivot and Agg like this:"
   ]
  },
  {
   "cell_type": "code",
   "execution_count": 32,
   "id": "126d182f",
   "metadata": {},
   "outputs": [
    {
     "name": "stdout",
     "output_type": "stream",
     "text": [
      "+------------------+----------------+----------------+------------------+------------------+\n",
      "|     neighbourhood|Queens_Min_Price|Queens_Max_Price|Brooklyn_Min_Price|Brooklyn_Max_Price|\n",
      "+------------------+----------------+----------------+------------------+------------------+\n",
      "|            Corona|              23|             359|              null|              null|\n",
      "|      Prince's Bay|            null|            null|              null|              null|\n",
      "|      Richmondtown|            null|            null|              null|              null|\n",
      "|        Mill Basin|            null|            null|                85|               299|\n",
      "|       Westerleigh|            null|            null|              null|              null|\n",
      "|      Civic Center|            null|            null|              null|              null|\n",
      "|        Douglaston|              40|             178|              null|              null|\n",
      "|        Mount Hope|            null|            null|              null|              null|\n",
      "|       Marble Hill|            null|            null|              null|              null|\n",
      "|         Rego Park|              21|             300|              null|              null|\n",
      "|     Dyker Heights|            null|            null|                30|               170|\n",
      "|      Dongan Hills|            null|            null|              null|              null|\n",
      "| Kew Gardens Hills|              40|             399|              null|              null|\n",
      "|       Bay Terrace|              32|             258|              null|              null|\n",
      "|Financial District|            null|            null|              null|              null|\n",
      "|           Bayside|              30|            2600|              null|              null|\n",
      "|           Midtown|            null|            null|              null|              null|\n",
      "|   Jackson Heights|              23|             260|              null|              null|\n",
      "|    Hell's Kitchen|            null|            null|              null|              null|\n",
      "|        Highbridge|            null|            null|              null|              null|\n",
      "+------------------+----------------+----------------+------------------+------------------+\n",
      "only showing top 20 rows\n",
      "\n"
     ]
    }
   ],
   "source": [
    "from pyspark.sql.functions import min, max\n",
    "\n",
    "df.groupBy(\"neighbourhood\")\\\n",
    "    .pivot(\"neighbourhood_group\", [\"Queens\", \"Brooklyn\"])\\\n",
    "    .agg(min(df.price).alias(\"Min_Price\"), \\\n",
    "         max(df.price).alias(\"Max_Price\"))\\\n",
    "    .show()"
   ]
  }
 ],
 "metadata": {
  "kernelspec": {
   "display_name": "py38",
   "language": "python",
   "name": "py38"
  },
  "language_info": {
   "codemirror_mode": {
    "name": "ipython",
    "version": 3
   },
   "file_extension": ".py",
   "mimetype": "text/x-python",
   "name": "python",
   "nbconvert_exporter": "python",
   "pygments_lexer": "ipython3",
   "version": "3.8.8"
  }
 },
 "nbformat": 4,
 "nbformat_minor": 5
}
