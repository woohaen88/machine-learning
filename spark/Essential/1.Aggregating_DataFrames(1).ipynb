{
 "cells": [
  {
   "cell_type": "markdown",
   "id": "09265ead",
   "metadata": {},
   "source": [
    "# Aggregating DataFrames\n",
    "\n",
    "First let's start up our PySpark instance"
   ]
  },
  {
   "cell_type": "code",
   "execution_count": 8,
   "id": "7a88b409",
   "metadata": {},
   "outputs": [
    {
     "name": "stdout",
     "output_type": "stream",
     "text": [
      "your are working with 1 core(s)\n"
     ]
    },
    {
     "data": {
      "text/html": [
       "\n",
       "            <div>\n",
       "                <p><b>SparkSession - in-memory</b></p>\n",
       "                \n",
       "        <div>\n",
       "            <p><b>SparkContext</b></p>\n",
       "\n",
       "            <p><a href=\"http://ip-172-31-44-243.ap-northeast-2.compute.internal:4040\">Spark UI</a></p>\n",
       "\n",
       "            <dl>\n",
       "              <dt>Version</dt>\n",
       "                <dd><code>v3.1.1</code></dd>\n",
       "              <dt>Master</dt>\n",
       "                <dd><code>local[*]</code></dd>\n",
       "              <dt>AppName</dt>\n",
       "                <dd><code>agg1</code></dd>\n",
       "            </dl>\n",
       "        </div>\n",
       "        \n",
       "            </div>\n",
       "        "
      ],
      "text/plain": [
       "<pyspark.sql.session.SparkSession at 0x7f2b133d31f0>"
      ]
     },
     "execution_count": 8,
     "metadata": {},
     "output_type": "execute_result"
    }
   ],
   "source": [
    "from pyspark.sql import SparkSession\n",
    "\n",
    "spark = SparkSession.builder.appName('agg1').getOrCreate()\n",
    "cores = spark._jsc.sc().getExecutorMemoryStatus().keySet().size()\n",
    "print('your are working with {} core(s)'.format(cores))\n",
    "spark"
   ]
  },
  {
   "cell_type": "markdown",
   "id": "807f9199",
   "metadata": {},
   "source": [
    "## Read in the dataFrame for this Notebook"
   ]
  },
  {
   "cell_type": "code",
   "execution_count": 10,
   "id": "4d94e7be",
   "metadata": {},
   "outputs": [],
   "source": [
    "import pandas as pd"
   ]
  },
  {
   "cell_type": "code",
   "execution_count": 14,
   "id": "03254e05",
   "metadata": {},
   "outputs": [],
   "source": [
    "df = pd.read_csv('s3://************/nyc_air_bnb.csv')\n",
    "for col in df.columns:\n",
    "    df[col] = df[col].astype('str')\n",
    "\n",
    "airbnb = spark.createDataFrame(df)    "
   ]
  },
  {
   "cell_type": "code",
   "execution_count": 15,
   "id": "ef305b57",
   "metadata": {},
   "outputs": [
    {
     "name": "stdout",
     "output_type": "stream",
     "text": [
      "root\n",
      " |-- id: string (nullable = true)\n",
      " |-- name: string (nullable = true)\n",
      " |-- host_id: string (nullable = true)\n",
      " |-- host_name: string (nullable = true)\n",
      " |-- neighbourhood_group: string (nullable = true)\n",
      " |-- neighbourhood: string (nullable = true)\n",
      " |-- latitude: string (nullable = true)\n",
      " |-- longitude: string (nullable = true)\n",
      " |-- room_type: string (nullable = true)\n",
      " |-- price: string (nullable = true)\n",
      " |-- minimum_nights: string (nullable = true)\n",
      " |-- number_of_reviews: string (nullable = true)\n",
      " |-- last_review: string (nullable = true)\n",
      " |-- reviews_per_month: string (nullable = true)\n",
      " |-- calculated_host_listings_count: string (nullable = true)\n",
      " |-- availability_365: string (nullable = true)\n",
      "\n",
      "None\n"
     ]
    }
   ],
   "source": [
    "print(airbnb.printSchema())"
   ]
  },
  {
   "cell_type": "markdown",
   "id": "a12c43ba",
   "metadata": {},
   "source": [
    "Notice here that some of the columns that are obviously numeric have been incorrectly identified as \"strings\". Let's edit that. Otherwise we cannot aggregate any of the numeric columns."
   ]
  },
  {
   "cell_type": "code",
   "execution_count": 17,
   "id": "d56bf0e5",
   "metadata": {},
   "outputs": [
    {
     "name": "stdout",
     "output_type": "stream",
     "text": [
      "root\n",
      " |-- id: string (nullable = true)\n",
      " |-- name: string (nullable = true)\n",
      " |-- host_id: string (nullable = true)\n",
      " |-- host_name: string (nullable = true)\n",
      " |-- neighbourhood_group: string (nullable = true)\n",
      " |-- neighbourhood: string (nullable = true)\n",
      " |-- latitude: string (nullable = true)\n",
      " |-- longitude: string (nullable = true)\n",
      " |-- room_type: string (nullable = true)\n",
      " |-- price: integer (nullable = true)\n",
      " |-- minimum_nights: integer (nullable = true)\n",
      " |-- number_of_reviews: integer (nullable = true)\n",
      " |-- last_review: string (nullable = true)\n",
      " |-- reviews_per_month: integer (nullable = true)\n",
      " |-- calculated_host_listings_count: integer (nullable = true)\n",
      " |-- availability_365: string (nullable = true)\n",
      "\n",
      "None\n"
     ]
    }
   ],
   "source": [
    "from pyspark.sql.functions import col\n",
    "from pyspark.sql.types import IntegerType\n",
    "df = airbnb.withColumn('price', col('price').cast(IntegerType())) \\\n",
    "        .withColumn('minimum_nights', col('minimum_nights').cast(IntegerType())) \\\n",
    "        .withColumn('number_of_reviews', col('number_of_reviews').cast(IntegerType())) \\\n",
    "        .withColumn('minimum_nights', col('minimum_nights').cast(IntegerType())) \\\n",
    "        .withColumn('reviews_per_month', col('reviews_per_month').cast(IntegerType())) \\\n",
    "        .withColumn('calculated_host_listings_count', col('calculated_host_listings_count').cast(IntegerType()))\n",
    "print(df.printSchema())"
   ]
  },
  {
   "cell_type": "markdown",
   "id": "db4da289",
   "metadata": {},
   "source": [
    "### 1. How many rows are in this dataset?"
   ]
  },
  {
   "cell_type": "code",
   "execution_count": 18,
   "id": "0566819d",
   "metadata": {},
   "outputs": [
    {
     "data": {
      "text/plain": [
       "48895"
      ]
     },
     "execution_count": 18,
     "metadata": {},
     "output_type": "execute_result"
    }
   ],
   "source": [
    "df.count()"
   ]
  },
  {
   "cell_type": "markdown",
   "id": "583e4e45",
   "metadata": {},
   "source": [
    "### 2. How many total reviews does each host have?"
   ]
  },
  {
   "cell_type": "code",
   "execution_count": 22,
   "id": "c2129c91",
   "metadata": {},
   "outputs": [
    {
     "name": "stdout",
     "output_type": "stream",
     "text": [
      "+--------+-------+\n",
      "| host_id|reviews|\n",
      "+--------+-------+\n",
      "|37312959|   2273|\n",
      "|  344035|   2205|\n",
      "|26432133|   2017|\n",
      "|35524316|   1971|\n",
      "|40176101|   1818|\n",
      "+--------+-------+\n",
      "only showing top 5 rows\n",
      "\n"
     ]
    }
   ],
   "source": [
    "from pyspark.sql import functions as F\n",
    "\n",
    "df.groupBy('host_id').agg(F.sum('number_of_reviews').alias('reviews')).orderBy(F.sum('number_of_reviews').desc()).show(5)"
   ]
  },
  {
   "cell_type": "markdown",
   "id": "5392890a",
   "metadata": {},
   "source": [
    "### 3. Show the min and max of all the numeric variables in the dataset"
   ]
  },
  {
   "cell_type": "code",
   "execution_count": 30,
   "id": "5d6d12c5",
   "metadata": {},
   "outputs": [],
   "source": [
    "from pyspark.sql.functions import min, max"
   ]
  },
  {
   "cell_type": "code",
   "execution_count": 33,
   "id": "54d49989",
   "metadata": {},
   "outputs": [
    {
     "name": "stdout",
     "output_type": "stream",
     "text": [
      "+-------+-----+--------------+-----------------+-----------------+------------------------------+\n",
      "|summary|price|minimum_nights|number_of_reviews|reviews_per_month|calculated_host_listings_count|\n",
      "+-------+-----+--------------+-----------------+-----------------+------------------------------+\n",
      "|    min|    0|             1|                0|                0|                             1|\n",
      "|    max|10000|          1250|              629|               58|                           327|\n",
      "+-------+-----+--------------+-----------------+-----------------+------------------------------+\n",
      "\n"
     ]
    }
   ],
   "source": [
    "numeric_col = ['price', 'minimum_nights', 'number_of_reviews', 'reviews_per_month', 'calculated_host_listings_count']\n",
    "df.select(numeric_col).summary('min', 'max').show()"
   ]
  },
  {
   "cell_type": "markdown",
   "id": "2242ba3c",
   "metadata": {},
   "source": [
    "### 4. Which host had the highest number of reviews?"
   ]
  },
  {
   "cell_type": "code",
   "execution_count": 41,
   "id": "8d534f76",
   "metadata": {},
   "outputs": [
    {
     "name": "stdout",
     "output_type": "stream",
     "text": [
      "+--------+----------------------+\n",
      "| host_id|sum(number_of_reviews)|\n",
      "+--------+----------------------+\n",
      "|37312959|                  2273|\n",
      "|  344035|                  2205|\n",
      "|26432133|                  2017|\n",
      "|35524316|                  1971|\n",
      "|40176101|                  1818|\n",
      "+--------+----------------------+\n",
      "only showing top 5 rows\n",
      "\n"
     ]
    }
   ],
   "source": [
    "from pyspark.sql.functions import sum\n",
    "df.groupBy('host_id').agg(sum('number_of_reviews')).orderBy(sum('number_of_reviews').desc()).show(5)"
   ]
  },
  {
   "cell_type": "markdown",
   "id": "4c589aba",
   "metadata": {},
   "source": [
    "### 5. On average, how many nights did most hosts specify for a minimum?"
   ]
  },
  {
   "cell_type": "code",
   "execution_count": 44,
   "id": "c0414a4c",
   "metadata": {},
   "outputs": [
    {
     "name": "stdout",
     "output_type": "stream",
     "text": [
      "+-----------------+\n",
      "|   Avg_Min_Nights|\n",
      "+-----------------+\n",
      "|7.029962163820431|\n",
      "+-----------------+\n",
      "\n"
     ]
    }
   ],
   "source": [
    "from pyspark.sql.functions import avg\n",
    "df.agg({'minimum_nights' : 'avg'}) \\\n",
    "    .withColumnRenamed('avg(minimum_nights)', 'Avg_Min_Nights').show()"
   ]
  },
  {
   "cell_type": "markdown",
   "id": "904beee0",
   "metadata": {},
   "source": [
    "### 6. What is the most expensive neighborhood to stay in on average?"
   ]
  },
  {
   "cell_type": "code",
   "execution_count": 50,
   "id": "154aea47",
   "metadata": {},
   "outputs": [
    {
     "name": "stdout",
     "output_type": "stream",
     "text": [
      "+------------------+------------------+\n",
      "|     neighbourhood|        avg(price)|\n",
      "+------------------+------------------+\n",
      "|    Fort Wadsworth|             800.0|\n",
      "|           Woodrow|             700.0|\n",
      "|           Tribeca|  490.638418079096|\n",
      "|          Sea Gate|487.85714285714283|\n",
      "|         Riverdale|442.09090909090907|\n",
      "|      Prince's Bay|             409.5|\n",
      "| Battery Park City| 367.5571428571429|\n",
      "| Flatiron District|           341.925|\n",
      "|     Randall Manor|             336.0|\n",
      "|              NoHo|295.71794871794873|\n",
      "|              SoHo| 287.1033519553073|\n",
      "|           Midtown| 282.7190938511327|\n",
      "|          Neponsit| 274.6666666666667|\n",
      "|      West Village| 267.6822916666667|\n",
      "| Greenwich Village|263.40561224489795|\n",
      "|           Chelsea|249.73854447439354|\n",
      "|       Willowbrook|             249.0|\n",
      "|  Theater District|248.01388888888889|\n",
      "|            Nolita|230.13833992094862|\n",
      "|Financial District|225.49059139784947|\n",
      "+------------------+------------------+\n",
      "only showing top 20 rows\n",
      "\n"
     ]
    }
   ],
   "source": [
    "from pyspark.sql.functions import avg, col\n",
    "df.groupBy('neighbourhood').agg(avg(col('price'))).orderBy(avg(col('price')).desc()).show()"
   ]
  },
  {
   "cell_type": "markdown",
   "id": "4f30a958",
   "metadata": {},
   "source": [
    "Note: only show the one result\n",
    "\n",
    "### 7. Display a two by two table that shows the average prices by room type (private and shared only) and neighborhood group (Manhattan and Brooklyn only)"
   ]
  },
  {
   "cell_type": "code",
   "execution_count": 59,
   "id": "ecef1ac3",
   "metadata": {},
   "outputs": [
    {
     "name": "stdout",
     "output_type": "stream",
     "text": [
      "+------------+-----------------+-----------------+\n",
      "|   room_type|        Manhattan|         Brooklyn|\n",
      "+------------+-----------------+-----------------+\n",
      "| Shared room|88.97708333333334|50.52784503631961|\n",
      "|Private room|116.7766224004009|  76.500098697197|\n",
      "+------------+-----------------+-----------------+\n",
      "\n"
     ]
    }
   ],
   "source": [
    "from pyspark.sql.functions import avg\n",
    "df.filter(\"room_type IN('Private room','Shared room')\")\\\n",
    "    .groupBy('room_type').pivot('neighbourhood_group', ['Manhattan', 'Brooklyn']).avg('price').show()"
   ]
  }
 ],
 "metadata": {
  "kernelspec": {
   "display_name": "py38",
   "language": "python",
   "name": "py38"
  },
  "language_info": {
   "codemirror_mode": {
    "name": "ipython",
    "version": 3
   },
   "file_extension": ".py",
   "mimetype": "text/x-python",
   "name": "python",
   "nbconvert_exporter": "python",
   "pygments_lexer": "ipython3",
   "version": "3.8.8"
  }
 },
 "nbformat": 4,
 "nbformat_minor": 5
}
